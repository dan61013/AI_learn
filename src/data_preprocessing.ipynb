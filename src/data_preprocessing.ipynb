{
 "cells": [
  {
   "cell_type": "code",
   "execution_count": 1,
   "metadata": {},
   "outputs": [],
   "source": [
    "import pandas as pd\n",
    "import numpy as np\n",
    "import matplotlib.pyplot as plt\n",
    "import seaborn as sns\n",
    "from sklearn.datasets import load_iris"
   ]
  },
  {
   "cell_type": "code",
   "execution_count": 2,
   "metadata": {},
   "outputs": [],
   "source": [
    "np.set_printoptions(suppress=True)  # 設定print options"
   ]
  },
  {
   "cell_type": "markdown",
   "metadata": {},
   "source": [
    "**Load the dataset**\n",
    "\n",
    "將Iris flower dataset進行資料正規化"
   ]
  },
  {
   "cell_type": "code",
   "execution_count": 3,
   "metadata": {},
   "outputs": [
    {
     "data": {
      "text/html": [
       "<div>\n",
       "<style scoped>\n",
       "    .dataframe tbody tr th:only-of-type {\n",
       "        vertical-align: middle;\n",
       "    }\n",
       "\n",
       "    .dataframe tbody tr th {\n",
       "        vertical-align: top;\n",
       "    }\n",
       "\n",
       "    .dataframe thead th {\n",
       "        text-align: right;\n",
       "    }\n",
       "</style>\n",
       "<table border=\"1\" class=\"dataframe\">\n",
       "  <thead>\n",
       "    <tr style=\"text-align: right;\">\n",
       "      <th></th>\n",
       "      <th>SepalLengthCm</th>\n",
       "      <th>SepalWidthCm</th>\n",
       "      <th>PetalLengthCm</th>\n",
       "      <th>PetalWidth</th>\n",
       "      <th>Species</th>\n",
       "    </tr>\n",
       "  </thead>\n",
       "  <tbody>\n",
       "    <tr>\n",
       "      <th>0</th>\n",
       "      <td>5.1</td>\n",
       "      <td>3.5</td>\n",
       "      <td>1.4</td>\n",
       "      <td>0.2</td>\n",
       "      <td>0.0</td>\n",
       "    </tr>\n",
       "    <tr>\n",
       "      <th>1</th>\n",
       "      <td>4.9</td>\n",
       "      <td>3.0</td>\n",
       "      <td>1.4</td>\n",
       "      <td>0.2</td>\n",
       "      <td>0.0</td>\n",
       "    </tr>\n",
       "    <tr>\n",
       "      <th>2</th>\n",
       "      <td>4.7</td>\n",
       "      <td>3.2</td>\n",
       "      <td>1.3</td>\n",
       "      <td>0.2</td>\n",
       "      <td>0.0</td>\n",
       "    </tr>\n",
       "    <tr>\n",
       "      <th>3</th>\n",
       "      <td>4.6</td>\n",
       "      <td>3.1</td>\n",
       "      <td>1.5</td>\n",
       "      <td>0.2</td>\n",
       "      <td>0.0</td>\n",
       "    </tr>\n",
       "    <tr>\n",
       "      <th>4</th>\n",
       "      <td>5.0</td>\n",
       "      <td>3.6</td>\n",
       "      <td>1.4</td>\n",
       "      <td>0.2</td>\n",
       "      <td>0.0</td>\n",
       "    </tr>\n",
       "    <tr>\n",
       "      <th>...</th>\n",
       "      <td>...</td>\n",
       "      <td>...</td>\n",
       "      <td>...</td>\n",
       "      <td>...</td>\n",
       "      <td>...</td>\n",
       "    </tr>\n",
       "    <tr>\n",
       "      <th>145</th>\n",
       "      <td>6.7</td>\n",
       "      <td>3.0</td>\n",
       "      <td>5.2</td>\n",
       "      <td>2.3</td>\n",
       "      <td>2.0</td>\n",
       "    </tr>\n",
       "    <tr>\n",
       "      <th>146</th>\n",
       "      <td>6.3</td>\n",
       "      <td>2.5</td>\n",
       "      <td>5.0</td>\n",
       "      <td>1.9</td>\n",
       "      <td>2.0</td>\n",
       "    </tr>\n",
       "    <tr>\n",
       "      <th>147</th>\n",
       "      <td>6.5</td>\n",
       "      <td>3.0</td>\n",
       "      <td>5.2</td>\n",
       "      <td>2.0</td>\n",
       "      <td>2.0</td>\n",
       "    </tr>\n",
       "    <tr>\n",
       "      <th>148</th>\n",
       "      <td>6.2</td>\n",
       "      <td>3.4</td>\n",
       "      <td>5.4</td>\n",
       "      <td>2.3</td>\n",
       "      <td>2.0</td>\n",
       "    </tr>\n",
       "    <tr>\n",
       "      <th>149</th>\n",
       "      <td>5.9</td>\n",
       "      <td>3.0</td>\n",
       "      <td>5.1</td>\n",
       "      <td>1.8</td>\n",
       "      <td>2.0</td>\n",
       "    </tr>\n",
       "  </tbody>\n",
       "</table>\n",
       "<p>150 rows × 5 columns</p>\n",
       "</div>"
      ],
      "text/plain": [
       "     SepalLengthCm  SepalWidthCm  PetalLengthCm  PetalWidth  Species\n",
       "0              5.1           3.5            1.4         0.2      0.0\n",
       "1              4.9           3.0            1.4         0.2      0.0\n",
       "2              4.7           3.2            1.3         0.2      0.0\n",
       "3              4.6           3.1            1.5         0.2      0.0\n",
       "4              5.0           3.6            1.4         0.2      0.0\n",
       "..             ...           ...            ...         ...      ...\n",
       "145            6.7           3.0            5.2         2.3      2.0\n",
       "146            6.3           2.5            5.0         1.9      2.0\n",
       "147            6.5           3.0            5.2         2.0      2.0\n",
       "148            6.2           3.4            5.4         2.3      2.0\n",
       "149            5.9           3.0            5.1         1.8      2.0\n",
       "\n",
       "[150 rows x 5 columns]"
      ]
     },
     "execution_count": 3,
     "metadata": {},
     "output_type": "execute_result"
    }
   ],
   "source": [
    "iris = load_iris()\n",
    "\n",
    "df = pd.DataFrame(\n",
    "    data=np.c_[iris[\"data\"], iris[\"target\"]],\n",
    "    columns=[\"SepalLengthCm\", \"SepalWidthCm\", \"PetalLengthCm\", \"PetalWidth\", \"Species\"]\n",
    ")\n",
    "df"
   ]
  },
  {
   "cell_type": "markdown",
   "metadata": {},
   "source": [
    "**檢查缺失值**\n",
    "\n",
    "使用`numpy`的function來檢查是否有N/A缺失值，如果有缺失值則使用`dropna()`進行移除。\n",
    "\n",
    "情境:\n",
    "\n",
    "1. 少量缺失值時，可以用移除方式。\n",
    "2. 大量缺失值時，建議使用機器學習的方式補上預測值。\n",
    "\n",
    "補值方式:\n",
    "\n",
    "1. 使用**average**, **median** or **mode**作為依據進行補值。\n",
    "2. 如果資料有時間序的問題，可利用附近的數值加總取平均值進行補值。"
   ]
  },
  {
   "cell_type": "code",
   "execution_count": 4,
   "metadata": {},
   "outputs": [
    {
     "name": "stdout",
     "output_type": "stream",
     "text": [
      "Checked missing data(NaN mount): 0\n"
     ]
    }
   ],
   "source": [
    "X = df.drop(labels=[\"Species\"], axis=1).values\n",
    "y = df[\"Species\"]\n",
    "print(f\"Checked missing data(NaN mount): {len(np.where(np.isnan(X))[0])}\")"
   ]
  },
  {
   "cell_type": "code",
   "execution_count": 5,
   "metadata": {},
   "outputs": [
    {
     "name": "stdout",
     "output_type": "stream",
     "text": [
      "Train shape: (105, 4)\n",
      "Test shape: (45, 4)\n"
     ]
    }
   ],
   "source": [
    "from sklearn.model_selection import train_test_split\n",
    "\n",
    "# test_size -> 分割多少百分比的資料作為測試集\n",
    "# random_state -> 給予一個隨機數值，主要目的是讓結果可再現(相同的數值)\n",
    "X_train, X_test, y_train, y_test = train_test_split(X, y, test_size=0.3, random_state=42, stratify=y)\n",
    "\n",
    "print(f\"Train shape: {X_train.shape}\")\n",
    "print(f\"Test shape: {X_test.shape}\")"
   ]
  },
  {
   "cell_type": "markdown",
   "metadata": {},
   "source": [
    "**Standardization 平均&變異數標準化**\n",
    "\n",
    "將所有特徵標準化，也就是**高斯分布**，使:\n",
    "\n",
    "- Average = 0\n",
    "- Variance = 1\n",
    "\n",
    "適用於當有些特徵的方差過大時，能夠透過標準化讓模型收斂"
   ]
  },
  {
   "cell_type": "code",
   "execution_count": 6,
   "metadata": {},
   "outputs": [
    {
     "name": "stdout",
     "output_type": "stream",
     "text": [
      "Dataset - X average: [5.87333333 3.0552381  3.7847619  1.20571429]\n",
      "Dataset - X std: [0.85882164 0.45502087 1.77553646 0.77383751]\n",
      "\n",
      "StandardScaler 縮放過後的訓練集平均值: [ 0. -0. -0. -0.]\n",
      "StandardScaler 縮放過後的訓練集標準差: [1. 1. 1. 1.]\n"
     ]
    }
   ],
   "source": [
    "from sklearn.preprocessing import StandardScaler\n",
    "\n",
    "scaler = StandardScaler()\n",
    "X_train_scaled = scaler.fit_transform(X_train)\n",
    "\n",
    "print(f\"Dataset - X average: {X_train.mean(axis=0)}\")\n",
    "print(f\"Dataset - X std: {X_train.std(axis=0)}\")\n",
    "print()\n",
    "print(f\"StandardScaler 縮放過後的訓練集平均值: {X_train_scaled.mean(axis=0)}\")\n",
    "print(f\"StandardScaler 縮放過後的訓練集標準差: {X_train_scaled.std(axis=0)}\")"
   ]
  },
  {
   "cell_type": "code",
   "execution_count": 7,
   "metadata": {},
   "outputs": [
    {
     "name": "stdout",
     "output_type": "stream",
     "text": [
      "StandardScaler 縮放過後的測試集平均值: [-0.11643861  0.01534903 -0.05024191 -0.02748619]\n",
      "StandardScaler 縮放過後的測試集標準差: [0.85754489 0.83947065 0.96847064 0.9374037 ]\n"
     ]
    }
   ],
   "source": [
    "X_test_scaled = scaler.transform(X_test)\n",
    "\n",
    "print(f\"StandardScaler 縮放過後的測試集平均值: {X_test_scaled.mean(axis=0)}\")\n",
    "print(f\"StandardScaler 縮放過後的測試集標準差: {X_test_scaled.std(axis=0)}\")"
   ]
  },
  {
   "cell_type": "code",
   "execution_count": 8,
   "metadata": {},
   "outputs": [
    {
     "data": {
      "text/plain": [
       "array([[7.3, 2.9, 6.3, 1.8],\n",
       "       [6.1, 2.9, 4.7, 1.4],\n",
       "       [6.3, 2.8, 5.1, 1.5]])"
      ]
     },
     "execution_count": 8,
     "metadata": {},
     "output_type": "execute_result"
    }
   ],
   "source": [
    "# 使用inverse_transform()可以將數值還原成原本的輸入\n",
    "X_test_inverse = scaler.inverse_transform(X_test_scaled)\n",
    "X_test_inverse[:3]"
   ]
  },
  {
   "cell_type": "code",
   "execution_count": 9,
   "metadata": {},
   "outputs": [
    {
     "data": {
      "text/plain": [
       "array([[7.3, 2.9, 6.3, 1.8],\n",
       "       [6.1, 2.9, 4.7, 1.4],\n",
       "       [6.3, 2.8, 5.1, 1.5]])"
      ]
     },
     "execution_count": 9,
     "metadata": {},
     "output_type": "execute_result"
    }
   ],
   "source": [
    "X_test[:3]"
   ]
  },
  {
   "cell_type": "markdown",
   "metadata": {},
   "source": [
    "**MinMaxScaler** 最小最大值標準化\n",
    "\n",
    "在`MinMaxScaler`中，最小值會被設定為**0**，最大值則為**1**，而其他數值會介於0~1之間。"
   ]
  },
  {
   "cell_type": "code",
   "execution_count": 10,
   "metadata": {},
   "outputs": [
    {
     "name": "stdout",
     "output_type": "stream",
     "text": [
      "Dataset - X minimum: [4.3 2.  1.1 0.1]\n",
      "Dataset - X maximum: [7.9 4.4 6.9 2.5]\n",
      "\n",
      "StanderScaler 縮放過後訓練集的最小值: [0. 0. 0. 0.]\n",
      "StanderScaler 縮放過後訓練集的最大值: [1. 1. 1. 1.]\n"
     ]
    }
   ],
   "source": [
    "from sklearn.preprocessing import MinMaxScaler\n",
    "\n",
    "scaler = MinMaxScaler()\n",
    "X_train_scaled = scaler.fit_transform(X_train)\n",
    "\n",
    "print(f\"Dataset - X minimum: {X_train.min(axis=0)}\")\n",
    "print(f\"Dataset - X maximum: {X_train.max(axis=0)}\")\n",
    "print()\n",
    "print(f\"StanderScaler 縮放過後訓練集的最小值: {X_train_scaled.min(axis=0)}\")\n",
    "print(f\"StanderScaler 縮放過後訓練集的最大值: {X_train_scaled.max(axis=0)}\")"
   ]
  },
  {
   "cell_type": "code",
   "execution_count": 11,
   "metadata": {},
   "outputs": [
    {
     "name": "stdout",
     "output_type": "stream",
     "text": [
      "StanderScaler 縮放過後測試集的最小值: [ 0.02777778  0.125      -0.01724138  0.04166667]\n",
      "StanderScaler 縮放過後測試集的最大值: [0.83333333 0.83333333 0.89655172 0.95833333]\n"
     ]
    }
   ],
   "source": [
    "X_test_scaled = scaler.transform(X_test)\n",
    "\n",
    "print(f\"StanderScaler 縮放過後測試集的最小值: {X_test_scaled.min(axis=0)}\")\n",
    "print(f\"StanderScaler 縮放過後測試集的最大值: {X_test_scaled.max(axis=0)}\")"
   ]
  },
  {
   "cell_type": "markdown",
   "metadata": {},
   "source": [
    "**MaxAbsScaler** 絕對值最大化標準差\n",
    "\n",
    "數據會縮放到[-1, 1]之間"
   ]
  },
  {
   "cell_type": "code",
   "execution_count": 12,
   "metadata": {},
   "outputs": [],
   "source": [
    "from sklearn.preprocessing import MaxAbsScaler\n",
    "\n",
    "scaler = MaxAbsScaler()\n",
    "X_scaled = scaler.fit_transform(X_train)"
   ]
  },
  {
   "cell_type": "code",
   "execution_count": 13,
   "metadata": {},
   "outputs": [
    {
     "name": "stdout",
     "output_type": "stream",
     "text": [
      "Dataset - X minimum: [4.3 2.  1.1 0.1]\n",
      "Dataset - X maximum: [7.9 4.4 6.9 2.5]\n",
      "\n",
      "StanderScaler 縮放過後訓練集的最小值: [0.5443038  0.45454545 0.15942029 0.04      ]\n",
      "StanderScaler 縮放過後訓練集的最大值: [1. 1. 1. 1.]\n"
     ]
    }
   ],
   "source": [
    "print(f\"Dataset - X minimum: {X_train.min(axis=0)}\")\n",
    "print(f\"Dataset - X maximum: {X_train.max(axis=0)}\")\n",
    "print()\n",
    "print(f\"StanderScaler 縮放過後訓練集的最小值: {X_scaled.min(axis=0)}\")\n",
    "print(f\"StanderScaler 縮放過後訓練集的最大值: {X_scaled.max(axis=0)}\")"
   ]
  },
  {
   "cell_type": "code",
   "execution_count": 14,
   "metadata": {},
   "outputs": [
    {
     "name": "stdout",
     "output_type": "stream",
     "text": [
      "StanderScaler 縮放過後測試集的最小值: [0.55696203 0.52272727 0.14492754 0.08      ]\n",
      "StanderScaler 縮放過後測試集的最大值: [0.92405063 0.90909091 0.91304348 0.96      ]\n"
     ]
    }
   ],
   "source": [
    "X_test_scaled = scaler.transform(X_test)\n",
    "\n",
    "print(f\"StanderScaler 縮放過後測試集的最小值: {X_test_scaled.min(axis=0)}\")\n",
    "print(f\"StanderScaler 縮放過後測試集的最大值: {X_test_scaled.max(axis=0)}\")"
   ]
  },
  {
   "cell_type": "markdown",
   "metadata": {},
   "source": [
    "**RobustScaler**\n",
    "\n",
    "如果資料集包含許多outliers，這時使用資料集的mean & variance效果可能不好，在這些cases中，可以使用Robust Scaler，對於數據中心與範圍使用更可靠的預估。"
   ]
  },
  {
   "cell_type": "code",
   "execution_count": 15,
   "metadata": {},
   "outputs": [],
   "source": [
    "from sklearn.preprocessing import RobustScaler\n",
    "\n",
    "scaler = RobustScaler()\n",
    "X_scaled = scaler.fit_transform(X_train)"
   ]
  },
  {
   "cell_type": "code",
   "execution_count": 16,
   "metadata": {},
   "outputs": [
    {
     "name": "stdout",
     "output_type": "stream",
     "text": [
      "Dataset - X minimum: [4.3 2.  1.1 0.1]\n",
      "Dataset - X maximum: [7.9 4.4 6.9 2.5]\n",
      "\n",
      "StanderScaler 縮放過後訓練集的最小值: [1.61538462 2.8        0.77142857 0.75      ]\n",
      "StanderScaler 縮放過後訓練集的最大值: [-1.15384615 -2.         -0.88571429 -0.75      ]\n"
     ]
    }
   ],
   "source": [
    "print(f\"Dataset - X minimum: {X_train.min(axis=0)}\")\n",
    "print(f\"Dataset - X maximum: {X_train.max(axis=0)}\")\n",
    "print()\n",
    "print(f\"StanderScaler 縮放過後訓練集的最小值: {X_scaled.max(axis=0)}\")\n",
    "print(f\"StanderScaler 縮放過後訓練集的最大值: {X_scaled.min(axis=0)}\")"
   ]
  },
  {
   "cell_type": "code",
   "execution_count": 17,
   "metadata": {},
   "outputs": [
    {
     "name": "stdout",
     "output_type": "stream",
     "text": [
      "StanderScaler 縮放過後測試集的最小值: [-1.07692308 -1.4        -0.91428571 -0.6875    ]\n",
      "StanderScaler 縮放過後測試集的最大值: [1.15384615 2.         0.6        0.6875    ]\n"
     ]
    }
   ],
   "source": [
    "X_test_scaled = scaler.transform(X_test)\n",
    "\n",
    "print(f\"StanderScaler 縮放過後測試集的最小值: {X_test_scaled.min(axis=0)}\")\n",
    "print(f\"StanderScaler 縮放過後測試集的最大值: {X_test_scaled.max(axis=0)}\")"
   ]
  }
 ],
 "metadata": {
  "kernelspec": {
   "display_name": "test01",
   "language": "python",
   "name": "python3"
  },
  "language_info": {
   "codemirror_mode": {
    "name": "ipython",
    "version": 3
   },
   "file_extension": ".py",
   "mimetype": "text/x-python",
   "name": "python",
   "nbconvert_exporter": "python",
   "pygments_lexer": "ipython3",
   "version": "3.11.9"
  }
 },
 "nbformat": 4,
 "nbformat_minor": 2
}
